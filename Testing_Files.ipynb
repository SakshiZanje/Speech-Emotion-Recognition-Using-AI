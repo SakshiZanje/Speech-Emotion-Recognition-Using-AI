{
 "cells": [
  {
   "cell_type": "code",
   "execution_count": null,
   "metadata": {
    "colab": {
     "base_uri": "https://localhost:8080/"
    },
    "id": "_3ibCiz-cJaT",
    "outputId": "f213546a-c3a6-4a27-e833-21139125d954"
   },
   "outputs": [
    {
     "name": "stdout",
     "output_type": "stream",
     "text": [
      "Mounted at /content/gdrive\n"
     ]
    }
   ],
   "source": [
    "from google.colab import drive\n",
    "drive.mount('/content/gdrive')"
   ]
  },
  {
   "cell_type": "code",
   "execution_count": null,
   "metadata": {
    "colab": {
     "base_uri": "https://localhost:8080/"
    },
    "id": "IzHtX8JZcNWL",
    "outputId": "22c8ac09-fef1-425a-c5da-30bbeb7d738c"
   },
   "outputs": [
    {
     "name": "stdout",
     "output_type": "stream",
     "text": [
      "We are currently in the folder of  /content/gdrive/MyDrive/Colab Notebooks/CNN\n"
     ]
    }
   ],
   "source": [
    "import os\n",
    "os.chdir('/content/gdrive/MyDrive/Colab Notebooks/CNN')\n",
    "print(\"We are currently in the folder of \",os.getcwd())"
   ]
  },
  {
   "cell_type": "code",
   "execution_count": null,
   "metadata": {
    "colab": {
     "base_uri": "https://localhost:8080/"
    },
    "id": "MKtOAJ9KgGe1",
    "outputId": "6dc06433-0b84-40b6-807d-fb581c3ad15f"
   },
   "outputs": [
    {
     "name": "stderr",
     "output_type": "stream",
     "text": [
      "/usr/local/lib/python3.7/dist-packages/keras/engine/sequential.py:450: UserWarning: `model.predict_classes()` is deprecated and will be removed after 2021-01-01. Please use instead:* `np.argmax(model.predict(x), axis=-1)`,   if your model does multi-class classification   (e.g. if it uses a `softmax` last-layer activation).* `(model.predict(x) > 0.5).astype(\"int32\")`,   if your model does binary classification   (e.g. if it uses a `sigmoid` last-layer activation).\n",
      "  warnings.warn('`model.predict_classes()` is deprecated and '\n"
     ]
    },
    {
     "name": "stdout",
     "output_type": "stream",
     "text": [
      "Prediction is   angry\n"
     ]
    }
   ],
   "source": [
    "\"\"\"\n",
    "This file can be used to try a live prediction. \n",
    "\"\"\"\n",
    "\n",
    "import keras\n",
    "import numpy as np\n",
    "import librosa\n",
    "\n",
    "class livePredictions:\n",
    "    \"\"\"\n",
    "    Main class of the application.\n",
    "    \"\"\"\n",
    "\n",
    "    def __init__(self, path, file):\n",
    "        \"\"\"\n",
    "        Init method is used to initialize the main parameters.\n",
    "        \"\"\"\n",
    "        self.path = path\n",
    "        self.file = file\n",
    "\n",
    "    def load_model(self):\n",
    "        \"\"\"\n",
    "        Method to load the chosen model.\n",
    "        :param path: path to your h5 model.\n",
    "        :return: summary of the model with the .summary() function.\n",
    "        \"\"\"\n",
    "        self.loaded_model = keras.models.load_model(self.path)\n",
    "        return self.loaded_model\n",
    "\n",
    "    def makepredictions(self):\n",
    "        \"\"\"\n",
    "        Method to process the files and create your features.\n",
    "        \"\"\"\n",
    "        data, sampling_rate = librosa.load(self.file)\n",
    "        mfccs = np.mean(librosa.feature.mfcc(y=data, sr=sampling_rate, n_mfcc=40).T, axis=0)\n",
    "        x = np.expand_dims(mfccs, axis=1)\n",
    "        x = np.expand_dims(x, axis=0)\n",
    "        predictions = self.loaded_model.predict_classes(x)\n",
    "        print(\"Prediction is\", \" \", self.convertclasstoemotion(predictions))\n",
    "\n",
    "    @staticmethod\n",
    "    def convertclasstoemotion(pred):\n",
    "        \"\"\"\n",
    "        Method to convert the predictions (int) into human readable strings.\n",
    "        \"\"\"\n",
    "        \n",
    "        label_conversion = {'0': 'neutral',\n",
    "                            '1': 'calm',\n",
    "                            '2': 'happy',\n",
    "                            '3': 'sad',\n",
    "                            '4': 'angry',\n",
    "                            '5': 'fearful',\n",
    "                            '6': 'disgust',\n",
    "                            '7': 'surprised'}\n",
    "        \n",
    "        for key, value in label_conversion.items():\n",
    "            if int(key) == pred:\n",
    "                label = value\n",
    "        return label\n",
    "\n",
    "# Here you can replace path and file with the path of your model and of the file \n",
    "#from the RAVDESS dataset you want to use for the prediction,\n",
    "# Below, I have used a neutral file: the prediction made is neutral.\n",
    "\n",
    "pred = livePredictions(path='/content/gdrive/MyDrive/Colab Notebooks/CNN/Model/testing2_model.h5',file='/content/gdrive/MyDrive/Colab Notebooks/CNN/Test Folder/angry.wav')\n",
    "\n",
    "pred.load_model()\n",
    "pred.makepredictions()"
   ]
  },
  {
   "cell_type": "code",
   "execution_count": null,
   "metadata": {
    "colab": {
     "base_uri": "https://localhost:8080/"
    },
    "id": "YCpRnv-EcNc5",
    "outputId": "3f5ab612-ae8c-40ba-9158-4715d97f8c74"
   },
   "outputs": [
    {
     "name": "stderr",
     "output_type": "stream",
     "text": [
      "/usr/local/lib/python3.7/dist-packages/keras/engine/sequential.py:450: UserWarning: `model.predict_classes()` is deprecated and will be removed after 2021-01-01. Please use instead:* `np.argmax(model.predict(x), axis=-1)`,   if your model does multi-class classification   (e.g. if it uses a `softmax` last-layer activation).* `(model.predict(x) > 0.5).astype(\"int32\")`,   if your model does binary classification   (e.g. if it uses a `sigmoid` last-layer activation).\n",
      "  warnings.warn('`model.predict_classes()` is deprecated and '\n"
     ]
    },
    {
     "name": "stdout",
     "output_type": "stream",
     "text": [
      "Prediction is   sad\n"
     ]
    }
   ],
   "source": [
    "class livePredictions:\n",
    "    \"\"\"\n",
    "    Main class of the application.\n",
    "    \"\"\"\n",
    "\n",
    "    def __init__(self, path, file):\n",
    "        \"\"\"\n",
    "        Init method is used to initialize the main parameters.\n",
    "        \"\"\"\n",
    "        self.path = path\n",
    "        self.file = file\n",
    "\n",
    "    def load_model(self):\n",
    "        \"\"\"\n",
    "        Method to load the chosen model.\n",
    "        :param path: path to your h5 model.\n",
    "        :return: summary of the model with the .summary() function.\n",
    "        \"\"\"\n",
    "        self.loaded_model = keras.models.load_model(self.path)\n",
    "        return self.loaded_model\n",
    "    def makepredictions(self):\n",
    "        \"\"\"\n",
    "        Method to process the files and create your features.\n",
    "        \"\"\"\n",
    "        data, sampling_rate = librosa.load(self.file)\n",
    "        mfccs = np.mean(librosa.feature.mfcc(y=data, sr=sampling_rate, n_mfcc=40).T, axis=0)\n",
    "        x = np.expand_dims(mfccs, axis=1)\n",
    "        x = np.expand_dims(x, axis=0)\n",
    "        predictions = self.loaded_model.predict_classes(x)\n",
    "        print(\"Prediction is\", \" \", self.convertclasstoemotion(predictions))\n",
    "\n",
    "    @staticmethod\n",
    "    def convertclasstoemotion(pred):\n",
    "        \"\"\"\n",
    "        Method to convert the predictions (int) into human readable strings.\n",
    "        \"\"\"\n",
    "        \n",
    "        label_conversion = {'0': 'neutral',\n",
    "                            '1': 'calm',\n",
    "                            '2': 'happy',\n",
    "                            '3': 'sad',\n",
    "                            '4': 'angry',\n",
    "                            '5': 'fearful',\n",
    "                            '6': 'disgust',\n",
    "                            '7': 'surprised'}\n",
    "        \n",
    "        for key, value in label_conversion.items():\n",
    "            if int(key) == pred:\n",
    "                label = value\n",
    "        return label\n",
    "\n",
    "# Here you can replace path and file with the path of your model and of the file \n",
    "#from the RAVDESS dataset you want to use for the prediction,\n",
    "# Below, I have used a neutral file: the prediction made is neutral.\n",
    "\n",
    "pred = livePredictions(path='/content/gdrive/MyDrive/Colab Notebooks/CNN/Model/testing2_model.h5',file='/content/gdrive/MyDrive/Colab Notebooks/CNN/Test Folder/sakshi_sad.wav')\n",
    "\n",
    "pred.load_model()\n",
    "pred.makepredictions()"
   ]
  },
  {
   "cell_type": "code",
   "execution_count": null,
   "metadata": {
    "colab": {
     "base_uri": "https://localhost:8080/"
    },
    "id": "lyOiTCypcNg7",
    "outputId": "51148cf4-ff89-47da-8df6-69c1aff5d881"
   },
   "outputs": [
    {
     "name": "stderr",
     "output_type": "stream",
     "text": [
      "/usr/local/lib/python3.7/dist-packages/keras/engine/sequential.py:450: UserWarning: `model.predict_classes()` is deprecated and will be removed after 2021-01-01. Please use instead:* `np.argmax(model.predict(x), axis=-1)`,   if your model does multi-class classification   (e.g. if it uses a `softmax` last-layer activation).* `(model.predict(x) > 0.5).astype(\"int32\")`,   if your model does binary classification   (e.g. if it uses a `sigmoid` last-layer activation).\n",
      "  warnings.warn('`model.predict_classes()` is deprecated and '\n"
     ]
    },
    {
     "name": "stdout",
     "output_type": "stream",
     "text": [
      "Prediction is   fearful\n"
     ]
    }
   ],
   "source": [
    "class livePredictions:\n",
    "    \"\"\"\n",
    "    Main class of the application.\n",
    "    \"\"\"\n",
    "\n",
    "    def __init__(self, path, file):\n",
    "        \"\"\"\n",
    "        Init method is used to initialize the main parameters.\n",
    "        \"\"\"\n",
    "        self.path = path\n",
    "        self.file = file\n",
    "\n",
    "    def load_model(self):\n",
    "        \"\"\"\n",
    "        Method to load the chosen model.\n",
    "        :param path: path to your h5 model.\n",
    "        :return: summary of the model with the .summary() function.\n",
    "        \"\"\"\n",
    "        self.loaded_model = keras.models.load_model(self.path)\n",
    "        return self.loaded_model\n",
    "    def makepredictions(self):\n",
    "        \"\"\"\n",
    "        Method to process the files and create your features.\n",
    "        \"\"\"\n",
    "        data, sampling_rate = librosa.load(self.file)\n",
    "        mfccs = np.mean(librosa.feature.mfcc(y=data, sr=sampling_rate, n_mfcc=40).T, axis=0)\n",
    "        x = np.expand_dims(mfccs, axis=1)\n",
    "        x = np.expand_dims(x, axis=0)\n",
    "        predictions = self.loaded_model.predict_classes(x)\n",
    "        print(\"Prediction is\", \" \", self.convertclasstoemotion(predictions))\n",
    "\n",
    "    @staticmethod\n",
    "    def convertclasstoemotion(pred):\n",
    "        \"\"\"\n",
    "        Method to convert the predictions (int) into human readable strings.\n",
    "        \"\"\"\n",
    "        \n",
    "        label_conversion = {'0': 'neutral',\n",
    "                            '1': 'calm',\n",
    "                            '2': 'happy',\n",
    "                            '3': 'sad',\n",
    "                            '4': 'angry',\n",
    "                            '5': 'fearful',\n",
    "                            '6': 'disgust',\n",
    "                            '7': 'surprised'}\n",
    "        \n",
    "        for key, value in label_conversion.items():\n",
    "            if int(key) == pred:\n",
    "                label = value\n",
    "        return label\n",
    "\n",
    "# Here you can replace path and file with the path of your model and of the file \n",
    "#from the RAVDESS dataset you want to use for the prediction,\n",
    "# Below, I have used a neutral file: the prediction made is neutral.\n",
    "\n",
    "pred = livePredictions(path='/content/gdrive/MyDrive/Colab Notebooks/CNN/Model/testing2_model.h5',file='/content/gdrive/MyDrive/Colab Notebooks/CNN/Test Folder/sakshi_fear.wav')\n",
    "\n",
    "pred.load_model()\n",
    "pred.makepredictions()"
   ]
  },
  {
   "cell_type": "code",
   "execution_count": null,
   "metadata": {
    "colab": {
     "base_uri": "https://localhost:8080/"
    },
    "id": "2ihXtYMMcNiI",
    "outputId": "1f7bc9ac-f98e-4ade-9638-e49d75c19907"
   },
   "outputs": [
    {
     "name": "stderr",
     "output_type": "stream",
     "text": [
      "/usr/local/lib/python3.7/dist-packages/keras/engine/sequential.py:450: UserWarning: `model.predict_classes()` is deprecated and will be removed after 2021-01-01. Please use instead:* `np.argmax(model.predict(x), axis=-1)`,   if your model does multi-class classification   (e.g. if it uses a `softmax` last-layer activation).* `(model.predict(x) > 0.5).astype(\"int32\")`,   if your model does binary classification   (e.g. if it uses a `sigmoid` last-layer activation).\n",
      "  warnings.warn('`model.predict_classes()` is deprecated and '\n"
     ]
    },
    {
     "name": "stdout",
     "output_type": "stream",
     "text": [
      "Prediction is   disgust\n"
     ]
    }
   ],
   "source": [
    "class livePredictions:\n",
    "    \"\"\"\n",
    "    Main class of the application.\n",
    "    \"\"\"\n",
    "\n",
    "    def __init__(self, path, file):\n",
    "        \"\"\"\n",
    "        Init method is used to initialize the main parameters.\n",
    "        \"\"\"\n",
    "        self.path = path\n",
    "        self.file = file\n",
    "\n",
    "    def load_model(self):\n",
    "        \"\"\"\n",
    "        Method to load the chosen model.\n",
    "        :param path: path to your h5 model.\n",
    "        :return: summary of the model with the .summary() function.\n",
    "        \"\"\"\n",
    "        self.loaded_model = keras.models.load_model(self.path)\n",
    "        return self.loaded_model\n",
    "    def makepredictions(self):\n",
    "        \"\"\"\n",
    "        Method to process the files and create your features.\n",
    "        \"\"\"\n",
    "        data, sampling_rate = librosa.load(self.file)\n",
    "        mfccs = np.mean(librosa.feature.mfcc(y=data, sr=sampling_rate, n_mfcc=40).T, axis=0)\n",
    "        x = np.expand_dims(mfccs, axis=1)\n",
    "        x = np.expand_dims(x, axis=0)\n",
    "        predictions = self.loaded_model.predict_classes(x)\n",
    "        print(\"Prediction is\", \" \", self.convertclasstoemotion(predictions))\n",
    "\n",
    "    @staticmethod\n",
    "    def convertclasstoemotion(pred):\n",
    "        \"\"\"\n",
    "        Method to convert the predictions (int) into human readable strings.\n",
    "        \"\"\"\n",
    "        \n",
    "        label_conversion = {'0': 'neutral',\n",
    "                            '1': 'calm',\n",
    "                            '2': 'happy',\n",
    "                            '3': 'sad',\n",
    "                            '4': 'angry',\n",
    "                            '5': 'fearful',\n",
    "                            '6': 'disgust',\n",
    "                            '7': 'surprised'}\n",
    "        \n",
    "        for key, value in label_conversion.items():\n",
    "            if int(key) == pred:\n",
    "                label = value\n",
    "        return label\n",
    "\n",
    "# Here you can replace path and file with the path of your model and of the file \n",
    "#from the RAVDESS dataset you want to use for the prediction,\n",
    "# Below, I have used a neutral file: the prediction made is neutral.\n",
    "\n",
    "pred = livePredictions(path='/content/gdrive/MyDrive/Colab Notebooks/CNN/Model/testing2_model.h5',file='/content/gdrive/MyDrive/Colab Notebooks/CNN/Test Folder/1001_IEO_ANG_HI.wav')\n",
    "\n",
    "pred.load_model()\n",
    "pred.makepredictions()"
   ]
  },
  {
   "cell_type": "code",
   "execution_count": null,
   "metadata": {
    "id": "M782T8vPt36I"
   },
   "outputs": [],
   "source": []
  },
  {
   "cell_type": "code",
   "execution_count": null,
   "metadata": {
    "colab": {
     "base_uri": "https://localhost:8080/"
    },
    "id": "sQSKjd1X1lbW",
    "outputId": "fe97e545-d296-4cbc-db79-52dd0656c396"
   },
   "outputs": [
    {
     "name": "stderr",
     "output_type": "stream",
     "text": [
      "/usr/local/lib/python3.7/dist-packages/keras/engine/sequential.py:450: UserWarning: `model.predict_classes()` is deprecated and will be removed after 2021-01-01. Please use instead:* `np.argmax(model.predict(x), axis=-1)`,   if your model does multi-class classification   (e.g. if it uses a `softmax` last-layer activation).* `(model.predict(x) > 0.5).astype(\"int32\")`,   if your model does binary classification   (e.g. if it uses a `sigmoid` last-layer activation).\n",
      "  warnings.warn('`model.predict_classes()` is deprecated and '\n"
     ]
    },
    {
     "name": "stdout",
     "output_type": "stream",
     "text": [
      "Prediction is   happy\n"
     ]
    }
   ],
   "source": [
    "class livePredictions:\n",
    "    \"\"\"\n",
    "    Main class of the application.\n",
    "    \"\"\"\n",
    "\n",
    "    def __init__(self, path, file):\n",
    "        \"\"\"\n",
    "        Init method is used to initialize the main parameters.\n",
    "        \"\"\"\n",
    "        self.path = path\n",
    "        self.file = file\n",
    "\n",
    "    def load_model(self):\n",
    "        \"\"\"\n",
    "        Method to load the chosen model.\n",
    "        :param path: path to your h5 model.\n",
    "        :return: summary of the model with the .summary() function.\n",
    "        \"\"\"\n",
    "        self.loaded_model = keras.models.load_model(self.path)\n",
    "        return self.loaded_model\n",
    "    def makepredictions(self):\n",
    "        \"\"\"\n",
    "        Method to process the files and create your features.\n",
    "        \"\"\"\n",
    "        data, sampling_rate = librosa.load(self.file)\n",
    "        mfccs = np.mean(librosa.feature.mfcc(y=data, sr=sampling_rate, n_mfcc=40).T, axis=0)\n",
    "        x = np.expand_dims(mfccs, axis=1)\n",
    "        x = np.expand_dims(x, axis=0)\n",
    "        predictions = self.loaded_model.predict_classes(x)\n",
    "        print(\"Prediction is\", \" \", self.convertclasstoemotion(predictions))\n",
    "\n",
    "    @staticmethod\n",
    "    def convertclasstoemotion(pred):\n",
    "        \"\"\"\n",
    "        Method to convert the predictions (int) into human readable strings.\n",
    "        \"\"\"\n",
    "        \n",
    "        label_conversion = {'0': 'neutral',\n",
    "                            '1': 'calm',\n",
    "                            '2': 'happy',\n",
    "                            '3': 'sad',\n",
    "                            '4': 'angry',\n",
    "                            '5': 'fearful',\n",
    "                            '6': 'disgust',\n",
    "                            '7': 'surprised'}\n",
    "        \n",
    "        for key, value in label_conversion.items():\n",
    "            if int(key) == pred:\n",
    "                label = value\n",
    "        return label\n",
    "\n",
    "# Here you can replace path and file with the path of your model and of the file \n",
    "#from the RAVDESS dataset you want to use for the prediction,\n",
    "# Below, I have used a neutral file: the prediction made is neutral.\n",
    "\n",
    "pred = livePredictions(path='/content/gdrive/MyDrive/Colab Notebooks/CNN/Model/testing2_model.h5',file='/content/gdrive/MyDrive/Colab Notebooks/CNN/Test Folder/03-01-03-02-01-02-09.wav')\n",
    "\n",
    "pred.load_model()\n",
    "pred.makepredictions()"
   ]
  },
  {
   "cell_type": "code",
   "execution_count": null,
   "metadata": {
    "id": "jeENm2m-1ldV"
   },
   "outputs": [],
   "source": []
  },
  {
   "cell_type": "code",
   "execution_count": null,
   "metadata": {
    "id": "unZ3dNdk1lgr"
   },
   "outputs": [],
   "source": []
  }
 ],
 "metadata": {
  "colab": {
   "collapsed_sections": [],
   "name": "Test_final.ipynb",
   "provenance": []
  },
  "kernelspec": {
   "display_name": "Python 3",
   "language": "python",
   "name": "python3"
  },
  "language_info": {
   "codemirror_mode": {
    "name": "ipython",
    "version": 3
   },
   "file_extension": ".py",
   "mimetype": "text/x-python",
   "name": "python",
   "nbconvert_exporter": "python",
   "pygments_lexer": "ipython3",
   "version": "3.7.4"
  }
 },
 "nbformat": 4,
 "nbformat_minor": 1
}
