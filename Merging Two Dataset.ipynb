{
 "cells": [
  {
   "cell_type": "code",
   "execution_count": 2,
   "metadata": {},
   "outputs": [],
   "source": [
    "import os\n",
    "import shutil\n",
    "import random\n",
    "\n",
    "# from config import TRAINING_FILES_PATH\n",
    "# from config import TESS_ORIGINAL_FOLDER_PATH\n",
    "TRAINING_FILES_PATH=r\"C:\\Users\\Sakshi\\python\\RAVDESS&TESS\\\\\"\n",
    "TESS_ORIGINAL_FOLDER_PATH=r\"C:\\Users\\Sakshi\\python\\TESS Toronto emotional speech set data\\\\\""
   ]
  },
  {
   "cell_type": "code",
   "execution_count": 3,
   "metadata": {},
   "outputs": [],
   "source": [
    "class TESSPipeline:\n",
    "\n",
    "    @staticmethod\n",
    "    def create_tess_folders(path):\n",
    "        \"\"\"\n",
    "        We are filling folders Actor_25 if YAF and Actor_26 if OAF.\n",
    "\n",
    "        The files will be copied and renamed and not simply moved (to avoid messing up\n",
    "        things during the development of the pipeline.\n",
    "        Actor_25 and Actor_26 folders must be created before launching this script.\n",
    "        Example filename: 03-01-07-02-02-01-01.wav\n",
    "        \"\"\"\n",
    "        counter = 0\n",
    "        label_conversion = {'01': 'neutral',\n",
    "                            '03': 'happy',\n",
    "                            '04': 'sad',\n",
    "                            '05': 'angry',\n",
    "                            '06': 'fear',\n",
    "                            '07': 'disgust',\n",
    "                            '08': 'ps'}\n",
    "\n",
    "        for subdir, dirs, files in os.walk(path):\n",
    "            for filename in files:\n",
    "                if filename.startswith('OAF'):\n",
    "                    destination_path = TRAINING_FILES_PATH + 'Actor_26//'\n",
    "                    old_file_path = os.path.join(os.path.abspath(subdir), filename)\n",
    "\n",
    "                    # Separate base from extension\n",
    "                    base, extension = os.path.splitext(filename)\n",
    "                    no = 22\n",
    "                    for key, value in label_conversion.items():\n",
    "                        if base.endswith(value):\n",
    "                            random_list = random.sample(range(10, 99), 6)\n",
    "                            file_name = '-'.join([str(i) for i in (random_list)])\n",
    "                            file_name_with_correct_emotion = file_name[:6] + key + file_name[8:17] + '-' + str(no) + extension\n",
    "                            new_file_path = destination_path + file_name_with_correct_emotion\n",
    "                            shutil.copy(old_file_path, new_file_path)\n",
    "\n",
    "                else:\n",
    "                    destination_path = TRAINING_FILES_PATH + 'Actor_25//'\n",
    "                    old_file_path = os.path.join(os.path.abspath(subdir), filename)\n",
    "\n",
    "                    # Separate base from extension\n",
    "                    base, extension = os.path.splitext(filename)\n",
    "\n",
    "                    for key, value in label_conversion.items():\n",
    "                        if base.endswith(value):\n",
    "                            random_list = random.sample(range(10, 99), 6)\n",
    "                            file_name = '-'.join([str(i) for i in random_list])\n",
    "                            file_name_with_correct_emotion = (file_name[:6] + key + file_name[8:17] + '-' + str(no) + extension).strip()\n",
    "                            new_file_path = destination_path + file_name_with_correct_emotion\n",
    "                            shutil.copy(old_file_path, new_file_path)\n",
    "\n",
    "\n",
    "if __name__ == '__main__':\n",
    "    TESSPipeline.create_tess_folders(TESS_ORIGINAL_FOLDER_PATH)"
   ]
  },
  {
   "cell_type": "code",
   "execution_count": null,
   "metadata": {},
   "outputs": [],
   "source": []
  }
 ],
 "metadata": {
  "kernelspec": {
   "display_name": "Python 3",
   "language": "python",
   "name": "python3"
  },
  "language_info": {
   "codemirror_mode": {
    "name": "ipython",
    "version": 3
   },
   "file_extension": ".py",
   "mimetype": "text/x-python",
   "name": "python",
   "nbconvert_exporter": "python",
   "pygments_lexer": "ipython3",
   "version": "3.7.4"
  }
 },
 "nbformat": 4,
 "nbformat_minor": 2
}
