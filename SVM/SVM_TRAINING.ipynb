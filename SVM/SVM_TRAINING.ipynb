{
 "cells": [
  {
   "cell_type": "code",
   "execution_count": null,
   "metadata": {
    "colab": {
     "base_uri": "https://localhost:8080/"
    },
    "id": "Pqpf69_yphVM",
    "outputId": "b4dee713-4c17-4dfb-a0a1-7f9beaf10a58"
   },
   "outputs": [
    {
     "name": "stdout",
     "output_type": "stream",
     "text": [
      "Mounted at /content/gdrive\n"
     ]
    }
   ],
   "source": [
    "from google.colab import drive\n",
    "drive.mount('/content/gdrive')"
   ]
  },
  {
   "cell_type": "code",
   "execution_count": null,
   "metadata": {
    "colab": {
     "base_uri": "https://localhost:8080/"
    },
    "id": "WvuDkFx9pvSa",
    "outputId": "264f0466-b631-417b-fd93-a8dcae3eee5c"
   },
   "outputs": [
    {
     "name": "stdout",
     "output_type": "stream",
     "text": [
      "We are currently in the folder of  /content/gdrive/MyDrive/Colab Notebooks/Svm\n"
     ]
    }
   ],
   "source": [
    "import os\n",
    "os.chdir('/content/gdrive/MyDrive/Colab Notebooks/Svm')\n",
    "print(\"We are currently in the folder of \",os.getcwd())"
   ]
  },
  {
   "cell_type": "code",
   "execution_count": null,
   "metadata": {
    "id": "YmCDT2MjpvUS"
   },
   "outputs": [],
   "source": [
    "import pandas as pd\n",
    "import numpy as np\n",
    "import time"
   ]
  },
  {
   "cell_type": "code",
   "execution_count": null,
   "metadata": {
    "colab": {
     "base_uri": "https://localhost:8080/"
    },
    "id": "holAjETdpvXm",
    "outputId": "5947b08d-ba81-4300-e9a3-b21803d9ed50"
   },
   "outputs": [
    {
     "name": "stdout",
     "output_type": "stream",
     "text": [
      "data loaded in 0.6227734088897705ms\n",
      "   gender  emotion           0  ...        37        38        39\n",
      "0  female  disgust -377.578125  ...  4.781407  3.359138  2.814575\n",
      "1  female  disgust -374.714600  ...  3.086874  3.081059  3.720285\n",
      "2  female  disgust -433.112823  ...  3.445748  3.775246  4.531673\n",
      "3  female  disgust -442.021851  ...  4.383492  1.040241  0.354939\n",
      "4  female  disgust -442.544098  ...  4.258040  7.560517  6.063275\n",
      "\n",
      "[5 rows x 42 columns]\n"
     ]
    }
   ],
   "source": [
    "starting_time = time.time()\n",
    "data = pd.read_csv('/content/gdrive/MyDrive/Colab Notebooks/Svm/MFCC_SVM.csv')\n",
    "print(\"data loaded in \" + str(time.time()-starting_time) + \"ms\")\n",
    "print(data.head())"
   ]
  },
  {
   "cell_type": "code",
   "execution_count": null,
   "metadata": {
    "colab": {
     "base_uri": "https://localhost:8080/"
    },
    "id": "gtOkv5eQpvYq",
    "outputId": "b24237eb-96b1-4904-e348-346241fc8dd0"
   },
   "outputs": [
    {
     "data": {
      "text/plain": [
       "(4240, 42)"
      ]
     },
     "execution_count": 5,
     "metadata": {
      "tags": []
     },
     "output_type": "execute_result"
    }
   ],
   "source": [
    "data.shape"
   ]
  },
  {
   "cell_type": "code",
   "execution_count": null,
   "metadata": {
    "id": "GKyGWwsdpvdK"
   },
   "outputs": [],
   "source": [
    "#reindexing to shuffle the data at random\n",
    "data = data.reindex(np.random.permutation(data.index))"
   ]
  },
  {
   "cell_type": "code",
   "execution_count": null,
   "metadata": {
    "colab": {
     "base_uri": "https://localhost:8080/",
     "height": 376
    },
    "id": "rI8NcccPpvfQ",
    "outputId": "3ace115d-7c06-46a0-8dd8-3852634b2079"
   },
   "outputs": [
    {
     "data": {
      "text/html": [
       "<div>\n",
       "<style scoped>\n",
       "    .dataframe tbody tr th:only-of-type {\n",
       "        vertical-align: middle;\n",
       "    }\n",
       "\n",
       "    .dataframe tbody tr th {\n",
       "        vertical-align: top;\n",
       "    }\n",
       "\n",
       "    .dataframe thead th {\n",
       "        text-align: right;\n",
       "    }\n",
       "</style>\n",
       "<table border=\"1\" class=\"dataframe\">\n",
       "  <thead>\n",
       "    <tr style=\"text-align: right;\">\n",
       "      <th></th>\n",
       "      <th>gender</th>\n",
       "      <th>emotion</th>\n",
       "      <th>0</th>\n",
       "      <th>1</th>\n",
       "      <th>2</th>\n",
       "      <th>3</th>\n",
       "      <th>4</th>\n",
       "      <th>5</th>\n",
       "      <th>6</th>\n",
       "      <th>7</th>\n",
       "      <th>8</th>\n",
       "      <th>9</th>\n",
       "      <th>10</th>\n",
       "      <th>11</th>\n",
       "      <th>12</th>\n",
       "      <th>13</th>\n",
       "      <th>14</th>\n",
       "      <th>15</th>\n",
       "      <th>16</th>\n",
       "      <th>17</th>\n",
       "      <th>18</th>\n",
       "      <th>19</th>\n",
       "      <th>20</th>\n",
       "      <th>21</th>\n",
       "      <th>22</th>\n",
       "      <th>23</th>\n",
       "      <th>24</th>\n",
       "      <th>25</th>\n",
       "      <th>26</th>\n",
       "      <th>27</th>\n",
       "      <th>28</th>\n",
       "      <th>29</th>\n",
       "      <th>30</th>\n",
       "      <th>31</th>\n",
       "      <th>32</th>\n",
       "      <th>33</th>\n",
       "      <th>34</th>\n",
       "      <th>35</th>\n",
       "      <th>36</th>\n",
       "      <th>37</th>\n",
       "      <th>38</th>\n",
       "      <th>39</th>\n",
       "    </tr>\n",
       "  </thead>\n",
       "  <tbody>\n",
       "    <tr>\n",
       "      <th>1986</th>\n",
       "      <td>female</td>\n",
       "      <td>neutral</td>\n",
       "      <td>-508.195740</td>\n",
       "      <td>77.640320</td>\n",
       "      <td>14.494713</td>\n",
       "      <td>18.355850</td>\n",
       "      <td>2.834102</td>\n",
       "      <td>11.566437</td>\n",
       "      <td>-12.710686</td>\n",
       "      <td>1.348004</td>\n",
       "      <td>-21.919056</td>\n",
       "      <td>2.663975</td>\n",
       "      <td>-14.993209</td>\n",
       "      <td>6.311375</td>\n",
       "      <td>-8.464427</td>\n",
       "      <td>3.737347</td>\n",
       "      <td>4.630143</td>\n",
       "      <td>5.906680</td>\n",
       "      <td>-1.393446</td>\n",
       "      <td>10.336853</td>\n",
       "      <td>-1.223108</td>\n",
       "      <td>0.192018</td>\n",
       "      <td>0.430665</td>\n",
       "      <td>0.942743</td>\n",
       "      <td>-1.020510</td>\n",
       "      <td>0.108658</td>\n",
       "      <td>-9.194904</td>\n",
       "      <td>-4.377775</td>\n",
       "      <td>-2.211800</td>\n",
       "      <td>-1.240695</td>\n",
       "      <td>-3.277591</td>\n",
       "      <td>-1.563692</td>\n",
       "      <td>-5.034977</td>\n",
       "      <td>-3.273755</td>\n",
       "      <td>-2.847079</td>\n",
       "      <td>3.044731</td>\n",
       "      <td>15.491582</td>\n",
       "      <td>25.190491</td>\n",
       "      <td>32.367435</td>\n",
       "      <td>30.549589</td>\n",
       "      <td>22.300703</td>\n",
       "      <td>8.407218</td>\n",
       "    </tr>\n",
       "    <tr>\n",
       "      <th>373</th>\n",
       "      <td>female</td>\n",
       "      <td>angry</td>\n",
       "      <td>-364.474030</td>\n",
       "      <td>41.745262</td>\n",
       "      <td>-12.126205</td>\n",
       "      <td>23.474796</td>\n",
       "      <td>-35.522556</td>\n",
       "      <td>6.952712</td>\n",
       "      <td>-4.642541</td>\n",
       "      <td>-8.292014</td>\n",
       "      <td>-10.897641</td>\n",
       "      <td>-1.644553</td>\n",
       "      <td>-16.466871</td>\n",
       "      <td>10.508151</td>\n",
       "      <td>-11.455934</td>\n",
       "      <td>8.946884</td>\n",
       "      <td>-3.066702</td>\n",
       "      <td>-0.485896</td>\n",
       "      <td>-4.528833</td>\n",
       "      <td>-1.176343</td>\n",
       "      <td>-9.156803</td>\n",
       "      <td>-1.846371</td>\n",
       "      <td>-5.186344</td>\n",
       "      <td>-0.204507</td>\n",
       "      <td>-4.205920</td>\n",
       "      <td>1.118013</td>\n",
       "      <td>2.543772</td>\n",
       "      <td>4.863837</td>\n",
       "      <td>7.808711</td>\n",
       "      <td>10.485640</td>\n",
       "      <td>8.850708</td>\n",
       "      <td>9.890918</td>\n",
       "      <td>8.377390</td>\n",
       "      <td>6.161752</td>\n",
       "      <td>5.442679</td>\n",
       "      <td>3.571025</td>\n",
       "      <td>0.388762</td>\n",
       "      <td>2.364304</td>\n",
       "      <td>3.807124</td>\n",
       "      <td>2.092517</td>\n",
       "      <td>1.694864</td>\n",
       "      <td>-0.613071</td>\n",
       "    </tr>\n",
       "    <tr>\n",
       "      <th>1974</th>\n",
       "      <td>female</td>\n",
       "      <td>neutral</td>\n",
       "      <td>-494.946991</td>\n",
       "      <td>62.398426</td>\n",
       "      <td>14.034667</td>\n",
       "      <td>5.632519</td>\n",
       "      <td>-2.848940</td>\n",
       "      <td>19.353853</td>\n",
       "      <td>-18.107262</td>\n",
       "      <td>-0.223943</td>\n",
       "      <td>-19.836599</td>\n",
       "      <td>6.226116</td>\n",
       "      <td>-14.799041</td>\n",
       "      <td>10.843206</td>\n",
       "      <td>-9.442875</td>\n",
       "      <td>12.516137</td>\n",
       "      <td>2.657558</td>\n",
       "      <td>4.265986</td>\n",
       "      <td>-4.927877</td>\n",
       "      <td>11.558161</td>\n",
       "      <td>-2.277484</td>\n",
       "      <td>-0.001519</td>\n",
       "      <td>0.954862</td>\n",
       "      <td>3.631571</td>\n",
       "      <td>-5.746117</td>\n",
       "      <td>1.446256</td>\n",
       "      <td>-11.467313</td>\n",
       "      <td>-2.466536</td>\n",
       "      <td>-0.396973</td>\n",
       "      <td>1.009457</td>\n",
       "      <td>-2.829124</td>\n",
       "      <td>-1.509876</td>\n",
       "      <td>-8.776029</td>\n",
       "      <td>-2.705968</td>\n",
       "      <td>-2.267382</td>\n",
       "      <td>8.788441</td>\n",
       "      <td>24.085434</td>\n",
       "      <td>34.095062</td>\n",
       "      <td>39.728264</td>\n",
       "      <td>29.107935</td>\n",
       "      <td>11.439588</td>\n",
       "      <td>0.545910</td>\n",
       "    </tr>\n",
       "    <tr>\n",
       "      <th>907</th>\n",
       "      <td>female</td>\n",
       "      <td>sad</td>\n",
       "      <td>-399.224091</td>\n",
       "      <td>62.146675</td>\n",
       "      <td>31.824741</td>\n",
       "      <td>41.552132</td>\n",
       "      <td>-6.214156</td>\n",
       "      <td>11.493938</td>\n",
       "      <td>-11.574594</td>\n",
       "      <td>-1.306283</td>\n",
       "      <td>-5.943484</td>\n",
       "      <td>-0.504689</td>\n",
       "      <td>-12.690215</td>\n",
       "      <td>5.697094</td>\n",
       "      <td>-10.932258</td>\n",
       "      <td>9.519443</td>\n",
       "      <td>-11.720684</td>\n",
       "      <td>3.823768</td>\n",
       "      <td>-4.389991</td>\n",
       "      <td>-0.551556</td>\n",
       "      <td>-10.272029</td>\n",
       "      <td>-3.128951</td>\n",
       "      <td>-10.050483</td>\n",
       "      <td>-5.795279</td>\n",
       "      <td>-4.760423</td>\n",
       "      <td>-0.236248</td>\n",
       "      <td>-2.125697</td>\n",
       "      <td>6.876237</td>\n",
       "      <td>1.195812</td>\n",
       "      <td>2.345244</td>\n",
       "      <td>2.797048</td>\n",
       "      <td>0.774883</td>\n",
       "      <td>2.408092</td>\n",
       "      <td>9.325747</td>\n",
       "      <td>6.202383</td>\n",
       "      <td>4.070235</td>\n",
       "      <td>-0.073436</td>\n",
       "      <td>1.514638</td>\n",
       "      <td>4.246548</td>\n",
       "      <td>7.308380</td>\n",
       "      <td>8.953341</td>\n",
       "      <td>5.877393</td>\n",
       "    </tr>\n",
       "    <tr>\n",
       "      <th>2136</th>\n",
       "      <td>female</td>\n",
       "      <td>fear</td>\n",
       "      <td>-451.813873</td>\n",
       "      <td>43.964211</td>\n",
       "      <td>9.524453</td>\n",
       "      <td>10.223670</td>\n",
       "      <td>-5.480402</td>\n",
       "      <td>11.154572</td>\n",
       "      <td>-14.368369</td>\n",
       "      <td>7.535367</td>\n",
       "      <td>-25.221264</td>\n",
       "      <td>-2.723184</td>\n",
       "      <td>-20.682322</td>\n",
       "      <td>-2.827615</td>\n",
       "      <td>-14.159430</td>\n",
       "      <td>5.888941</td>\n",
       "      <td>-6.679865</td>\n",
       "      <td>2.002669</td>\n",
       "      <td>-0.141742</td>\n",
       "      <td>4.801216</td>\n",
       "      <td>-2.527006</td>\n",
       "      <td>0.424652</td>\n",
       "      <td>7.472081</td>\n",
       "      <td>20.010412</td>\n",
       "      <td>22.223841</td>\n",
       "      <td>28.643095</td>\n",
       "      <td>22.491541</td>\n",
       "      <td>14.430321</td>\n",
       "      <td>0.294824</td>\n",
       "      <td>3.688472</td>\n",
       "      <td>1.600188</td>\n",
       "      <td>5.421784</td>\n",
       "      <td>-0.705015</td>\n",
       "      <td>-3.939030</td>\n",
       "      <td>-3.907480</td>\n",
       "      <td>-2.472017</td>\n",
       "      <td>4.322766</td>\n",
       "      <td>1.393890</td>\n",
       "      <td>-6.629773</td>\n",
       "      <td>-3.247468</td>\n",
       "      <td>-0.925337</td>\n",
       "      <td>-1.041992</td>\n",
       "    </tr>\n",
       "    <tr>\n",
       "      <th>1808</th>\n",
       "      <td>female</td>\n",
       "      <td>neutral</td>\n",
       "      <td>-519.540833</td>\n",
       "      <td>85.336731</td>\n",
       "      <td>21.150795</td>\n",
       "      <td>10.370946</td>\n",
       "      <td>-7.363117</td>\n",
       "      <td>10.417215</td>\n",
       "      <td>-9.761885</td>\n",
       "      <td>-5.097526</td>\n",
       "      <td>-22.296158</td>\n",
       "      <td>9.265532</td>\n",
       "      <td>-17.072081</td>\n",
       "      <td>4.039606</td>\n",
       "      <td>-8.449956</td>\n",
       "      <td>9.634842</td>\n",
       "      <td>5.036850</td>\n",
       "      <td>6.470735</td>\n",
       "      <td>-2.709606</td>\n",
       "      <td>9.065528</td>\n",
       "      <td>-3.934543</td>\n",
       "      <td>-0.897472</td>\n",
       "      <td>3.105524</td>\n",
       "      <td>-0.434533</td>\n",
       "      <td>-6.927170</td>\n",
       "      <td>-0.093519</td>\n",
       "      <td>-11.040219</td>\n",
       "      <td>0.858569</td>\n",
       "      <td>-3.769382</td>\n",
       "      <td>-1.343746</td>\n",
       "      <td>-2.354102</td>\n",
       "      <td>-2.562750</td>\n",
       "      <td>-8.387093</td>\n",
       "      <td>-4.291895</td>\n",
       "      <td>2.927320</td>\n",
       "      <td>14.300947</td>\n",
       "      <td>33.473248</td>\n",
       "      <td>35.689911</td>\n",
       "      <td>38.604294</td>\n",
       "      <td>24.573141</td>\n",
       "      <td>4.827784</td>\n",
       "      <td>0.702261</td>\n",
       "    </tr>\n",
       "    <tr>\n",
       "      <th>2595</th>\n",
       "      <td>female</td>\n",
       "      <td>surprised</td>\n",
       "      <td>-442.253540</td>\n",
       "      <td>93.287582</td>\n",
       "      <td>14.311192</td>\n",
       "      <td>4.568474</td>\n",
       "      <td>0.296109</td>\n",
       "      <td>2.466582</td>\n",
       "      <td>-12.172862</td>\n",
       "      <td>5.819826</td>\n",
       "      <td>-23.402983</td>\n",
       "      <td>7.247494</td>\n",
       "      <td>-18.866117</td>\n",
       "      <td>2.497541</td>\n",
       "      <td>-5.552547</td>\n",
       "      <td>3.987598</td>\n",
       "      <td>-3.819069</td>\n",
       "      <td>5.878673</td>\n",
       "      <td>-3.583137</td>\n",
       "      <td>12.300090</td>\n",
       "      <td>-1.112866</td>\n",
       "      <td>2.233911</td>\n",
       "      <td>2.056815</td>\n",
       "      <td>5.069973</td>\n",
       "      <td>-3.152758</td>\n",
       "      <td>5.680736</td>\n",
       "      <td>-1.479600</td>\n",
       "      <td>5.047848</td>\n",
       "      <td>-1.561615</td>\n",
       "      <td>4.046599</td>\n",
       "      <td>-1.255678</td>\n",
       "      <td>5.457954</td>\n",
       "      <td>0.856113</td>\n",
       "      <td>2.158521</td>\n",
       "      <td>0.209726</td>\n",
       "      <td>-1.088543</td>\n",
       "      <td>4.341118</td>\n",
       "      <td>3.680864</td>\n",
       "      <td>10.402709</td>\n",
       "      <td>13.038858</td>\n",
       "      <td>18.720434</td>\n",
       "      <td>14.609982</td>\n",
       "    </tr>\n",
       "    <tr>\n",
       "      <th>3518</th>\n",
       "      <td>female</td>\n",
       "      <td>sad</td>\n",
       "      <td>-641.638367</td>\n",
       "      <td>71.992035</td>\n",
       "      <td>-17.511873</td>\n",
       "      <td>27.666395</td>\n",
       "      <td>-0.072446</td>\n",
       "      <td>3.290518</td>\n",
       "      <td>-5.876066</td>\n",
       "      <td>-15.465553</td>\n",
       "      <td>-5.670415</td>\n",
       "      <td>1.011483</td>\n",
       "      <td>-2.345026</td>\n",
       "      <td>-5.897398</td>\n",
       "      <td>3.061630</td>\n",
       "      <td>-0.695960</td>\n",
       "      <td>2.122485</td>\n",
       "      <td>-1.524626</td>\n",
       "      <td>-1.908899</td>\n",
       "      <td>5.789689</td>\n",
       "      <td>4.434662</td>\n",
       "      <td>6.344675</td>\n",
       "      <td>6.377122</td>\n",
       "      <td>5.424557</td>\n",
       "      <td>6.097806</td>\n",
       "      <td>9.258265</td>\n",
       "      <td>8.536376</td>\n",
       "      <td>6.222090</td>\n",
       "      <td>5.018299</td>\n",
       "      <td>5.850450</td>\n",
       "      <td>6.635654</td>\n",
       "      <td>3.540645</td>\n",
       "      <td>3.581937</td>\n",
       "      <td>1.299388</td>\n",
       "      <td>1.192046</td>\n",
       "      <td>2.417186</td>\n",
       "      <td>1.840951</td>\n",
       "      <td>1.800827</td>\n",
       "      <td>0.644074</td>\n",
       "      <td>0.572904</td>\n",
       "      <td>-1.014936</td>\n",
       "      <td>-1.062207</td>\n",
       "    </tr>\n",
       "    <tr>\n",
       "      <th>2391</th>\n",
       "      <td>female</td>\n",
       "      <td>disgust</td>\n",
       "      <td>-415.147217</td>\n",
       "      <td>73.882439</td>\n",
       "      <td>8.560536</td>\n",
       "      <td>-6.847392</td>\n",
       "      <td>-10.642097</td>\n",
       "      <td>7.749190</td>\n",
       "      <td>-14.072359</td>\n",
       "      <td>6.028543</td>\n",
       "      <td>-20.583464</td>\n",
       "      <td>10.519662</td>\n",
       "      <td>-15.958517</td>\n",
       "      <td>7.442756</td>\n",
       "      <td>-7.292551</td>\n",
       "      <td>8.120937</td>\n",
       "      <td>-1.691249</td>\n",
       "      <td>6.361757</td>\n",
       "      <td>-7.452026</td>\n",
       "      <td>6.252787</td>\n",
       "      <td>-4.928512</td>\n",
       "      <td>-4.932252</td>\n",
       "      <td>-1.290180</td>\n",
       "      <td>1.459123</td>\n",
       "      <td>-3.988014</td>\n",
       "      <td>2.066066</td>\n",
       "      <td>-0.187096</td>\n",
       "      <td>3.172909</td>\n",
       "      <td>1.370718</td>\n",
       "      <td>5.510406</td>\n",
       "      <td>0.012405</td>\n",
       "      <td>6.863664</td>\n",
       "      <td>3.437264</td>\n",
       "      <td>5.934959</td>\n",
       "      <td>2.948216</td>\n",
       "      <td>3.457989</td>\n",
       "      <td>1.533489</td>\n",
       "      <td>3.376705</td>\n",
       "      <td>5.419916</td>\n",
       "      <td>5.059289</td>\n",
       "      <td>7.182681</td>\n",
       "      <td>4.129498</td>\n",
       "    </tr>\n",
       "    <tr>\n",
       "      <th>3388</th>\n",
       "      <td>male</td>\n",
       "      <td>calm</td>\n",
       "      <td>-713.574646</td>\n",
       "      <td>75.588020</td>\n",
       "      <td>-13.266302</td>\n",
       "      <td>24.589905</td>\n",
       "      <td>-1.648618</td>\n",
       "      <td>8.101147</td>\n",
       "      <td>-7.335643</td>\n",
       "      <td>-1.803535</td>\n",
       "      <td>-5.416414</td>\n",
       "      <td>-6.268262</td>\n",
       "      <td>4.095574</td>\n",
       "      <td>-6.745669</td>\n",
       "      <td>-0.099670</td>\n",
       "      <td>-3.670476</td>\n",
       "      <td>0.330503</td>\n",
       "      <td>0.443382</td>\n",
       "      <td>-3.205127</td>\n",
       "      <td>-0.963260</td>\n",
       "      <td>-2.815224</td>\n",
       "      <td>-1.194785</td>\n",
       "      <td>-2.395785</td>\n",
       "      <td>-2.388307</td>\n",
       "      <td>-2.933675</td>\n",
       "      <td>-2.835657</td>\n",
       "      <td>-2.878989</td>\n",
       "      <td>-1.940500</td>\n",
       "      <td>-3.734152</td>\n",
       "      <td>-2.668652</td>\n",
       "      <td>-0.285231</td>\n",
       "      <td>-3.156233</td>\n",
       "      <td>-2.419668</td>\n",
       "      <td>-2.069376</td>\n",
       "      <td>-2.330749</td>\n",
       "      <td>-3.690963</td>\n",
       "      <td>-3.565203</td>\n",
       "      <td>-2.510241</td>\n",
       "      <td>-0.211166</td>\n",
       "      <td>1.920553</td>\n",
       "      <td>0.625630</td>\n",
       "      <td>0.529213</td>\n",
       "    </tr>\n",
       "  </tbody>\n",
       "</table>\n",
       "</div>"
      ],
      "text/plain": [
       "      gender    emotion           0  ...         37         38         39\n",
       "1986  female    neutral -508.195740  ...  30.549589  22.300703   8.407218\n",
       "373   female      angry -364.474030  ...   2.092517   1.694864  -0.613071\n",
       "1974  female    neutral -494.946991  ...  29.107935  11.439588   0.545910\n",
       "907   female        sad -399.224091  ...   7.308380   8.953341   5.877393\n",
       "2136  female       fear -451.813873  ...  -3.247468  -0.925337  -1.041992\n",
       "1808  female    neutral -519.540833  ...  24.573141   4.827784   0.702261\n",
       "2595  female  surprised -442.253540  ...  13.038858  18.720434  14.609982\n",
       "3518  female        sad -641.638367  ...   0.572904  -1.014936  -1.062207\n",
       "2391  female    disgust -415.147217  ...   5.059289   7.182681   4.129498\n",
       "3388    male       calm -713.574646  ...   1.920553   0.625630   0.529213\n",
       "\n",
       "[10 rows x 42 columns]"
      ]
     },
     "execution_count": 7,
     "metadata": {
      "tags": []
     },
     "output_type": "execute_result"
    }
   ],
   "source": [
    "data[:10]"
   ]
  },
  {
   "cell_type": "code",
   "execution_count": null,
   "metadata": {
    "colab": {
     "base_uri": "https://localhost:8080/"
    },
    "id": "F7O_cATtpvi7",
    "outputId": "acbffe54-f5f3-4d0c-861f-67ea7f91b9f3"
   },
   "outputs": [
    {
     "data": {
      "text/plain": [
       "Index(['gender', 'emotion', '0', '1', '2', '3', '4', '5', '6', '7', '8', '9',\n",
       "       '10', '11', '12', '13', '14', '15', '16', '17', '18', '19', '20', '21',\n",
       "       '22', '23', '24', '25', '26', '27', '28', '29', '30', '31', '32', '33',\n",
       "       '34', '35', '36', '37', '38', '39'],\n",
       "      dtype='object')"
      ]
     },
     "execution_count": 8,
     "metadata": {
      "tags": []
     },
     "output_type": "execute_result"
    }
   ],
   "source": [
    "#printing all columns\n",
    "data.columns"
   ]
  },
  {
   "cell_type": "code",
   "execution_count": null,
   "metadata": {
    "id": "4-TNwGoVpvkT"
   },
   "outputs": [],
   "source": [
    "\n",
    "#separating features and target outputs\n",
    "X = data.drop(['emotion','gender'], axis = 1).values\n",
    "y = data['emotion'].values"
   ]
  },
  {
   "cell_type": "code",
   "execution_count": null,
   "metadata": {
    "id": "paN8xtvR-Nhr"
   },
   "outputs": [],
   "source": [
    "import pandas as pd\n",
    "import numpy as np\n",
    "import matplotlib.pyplot as plt\n",
    "%matplotlib inline"
   ]
  },
  {
   "cell_type": "code",
   "execution_count": null,
   "metadata": {
    "colab": {
     "base_uri": "https://localhost:8080/"
    },
    "id": "WQwzP8rU-NjN",
    "outputId": "44d1c5a6-c58f-47ae-c1ed-f3560edac935"
   },
   "outputs": [
    {
     "data": {
      "text/plain": [
       "((4240, 40), (4240,))"
      ]
     },
     "execution_count": 13,
     "metadata": {
      "tags": []
     },
     "output_type": "execute_result"
    }
   ],
   "source": [
    "X.shape, y.shape"
   ]
  },
  {
   "cell_type": "code",
   "execution_count": null,
   "metadata": {
    "colab": {
     "base_uri": "https://localhost:8080/"
    },
    "id": "N57JFflh-NnU",
    "outputId": "c5edf556-e665-4b1e-bf6f-00a12ae594f6"
   },
   "outputs": [
    {
     "data": {
      "text/plain": [
       "array(['angry', 'calm', 'disgust', 'fear', 'happy', 'neutral', 'sad',\n",
       "       'surprised'], dtype=object)"
      ]
     },
     "execution_count": 14,
     "metadata": {
      "tags": []
     },
     "output_type": "execute_result"
    }
   ],
   "source": [
    "np.unique(y)"
   ]
  },
  {
   "cell_type": "code",
   "execution_count": null,
   "metadata": {
    "id": "8s93zixz-Noj"
   },
   "outputs": [],
   "source": [
    "from sklearn.model_selection import train_test_split\n",
    "\n",
    "X_train, X_test, y_train, y_test = train_test_split(X, y, test_size = 0.20)"
   ]
  },
  {
   "cell_type": "code",
   "execution_count": null,
   "metadata": {
    "id": "HUFBxnin-Nsx"
   },
   "outputs": [],
   "source": [
    "from sklearn.svm import SVC \n",
    "from sklearn.metrics import accuracy_score \n",
    "# Building the SVM model \n",
    "svmclf = SVC() \n",
    "svmclf.fit(X_train, y_train) \n",
    "  \n",
    "# Storing the predictions of the non-linear model \n",
    "y_pred_svmclf = svmclf.predict(X_test) \n",
    "  \n",
    "# Evaluating the performance of the non-linear model \n",
    "print('Accuracy : '+str(accuracy_score(y_test, y_pred_svmclf)))\n"
   ]
  },
  {
   "cell_type": "code",
   "execution_count": null,
   "metadata": {
    "colab": {
     "base_uri": "https://localhost:8080/"
    },
    "id": "MmDbASe--mTF",
    "outputId": "427f2ba5-60e9-4e9b-9efc-007d27a38c3f"
   },
   "outputs": [
    {
     "name": "stdout",
     "output_type": "stream",
     "text": [
      "Trained model in 59.08073973655701 ms \n"
     ]
    }
   ],
   "source": [
    "from sklearn.svm import SVC\n",
    "import time\n",
    "\n",
    "svclassifier = SVC(kernel = 'linear')\n",
    "\n",
    "starting_time = time.time()\n",
    "svclassifier.fit(X_train, y_train)\n",
    "print(\"Trained model in %s ms \" % str(time.time() - starting_time))\n"
   ]
  },
  {
   "cell_type": "code",
   "execution_count": null,
   "metadata": {
    "id": "zkkMZSyt-mUq"
   },
   "outputs": [],
   "source": [
    "y_pred = svclassifier.predict(X_test)"
   ]
  },
  {
   "cell_type": "code",
   "execution_count": null,
   "metadata": {
    "colab": {
     "base_uri": "https://localhost:8080/"
    },
    "id": "FsNFDeg5-mZy",
    "outputId": "74985d75-2a29-4a60-b656-906a47ae46f1"
   },
   "outputs": [
    {
     "name": "stdout",
     "output_type": "stream",
     "text": [
      "              precision    recall  f1-score   support\n",
      "\n",
      "       angry       0.76      0.89      0.82       126\n",
      "        calm       0.54      0.60      0.57        35\n",
      "     disgust       0.77      0.84      0.80       140\n",
      "        fear       0.80      0.76      0.78       114\n",
      "       happy       0.78      0.78      0.78       117\n",
      "     neutral       0.84      0.83      0.84        89\n",
      "         sad       0.76      0.73      0.75       107\n",
      "   surprised       0.86      0.68      0.76       120\n",
      "\n",
      "    accuracy                           0.78       848\n",
      "   macro avg       0.76      0.76      0.76       848\n",
      "weighted avg       0.78      0.78      0.78       848\n",
      "\n",
      "----accuracy score 77.94811320754717 ----\n"
     ]
    }
   ],
   "source": [
    "from sklearn.metrics import classification_report, confusion_matrix,accuracy_score\n",
    "import seaborn as sn\n",
    "\n",
    "print(classification_report(y_test,y_pred))\n",
    "\n",
    "acc = float(accuracy_score(y_test,y_pred))*100\n",
    "print(\"----accuracy score %s ----\" % acc)\n",
    "\n"
   ]
  },
  {
   "cell_type": "code",
   "execution_count": null,
   "metadata": {
    "colab": {
     "base_uri": "https://localhost:8080/",
     "height": 265
    },
    "id": "kOHIjGblAEbF",
    "outputId": "5025b488-ad9a-4174-d311-f70f59c24eec"
   },
   "outputs": [
    {
     "data": {
      "image/png": "[encoded data removed]",
      "text/plain": [
       "<Figure size 432x288 with 2 Axes>"
      ]
     },
     "metadata": {
      "needs_background": "light",
      "tags": []
     },
     "output_type": "display_data"
    }
   ],
   "source": [
    "cm = confusion_matrix(y_test,y_pred)\n",
    "df_cm = pd.DataFrame(cm)\n",
    "sn.heatmap(df_cm, annot=True, fmt='')\n",
    "plt.show()"
   ]
  },
  {
   "cell_type": "code",
   "execution_count": null,
   "metadata": {
    "colab": {
     "base_uri": "https://localhost:8080/"
    },
    "id": "zWeUivjv-8Qo",
    "outputId": "15ba010e-7468-4db7-a095-418b13ecee6f"
   },
   "outputs": [
    {
     "name": "stdout",
     "output_type": "stream",
     "text": [
      "----train accuracy score 82.31132075471697 ----\n",
      "----test accuracy score 77.94811320754717 ----\n"
     ]
    }
   ],
   "source": [
    "train_acc = float(svclassifier.score(X_train, y_train)*100)\n",
    "print(\"----train accuracy score %s ----\" % train_acc)\n",
    "\n",
    "test_acc = float(svclassifier.score(X_test, y_test)*100)\n",
    "print(\"----test accuracy score %s ----\" % test_acc)"
   ]
  },
  {
   "cell_type": "code",
   "execution_count": null,
   "metadata": {
    "colab": {
     "base_uri": "https://localhost:8080/"
    },
    "id": "H55TYoAvAta3",
    "outputId": "4861d7d5-1849-44d6-ab84-91c7745d17b9"
   },
   "outputs": [
    {
     "name": "stdout",
     "output_type": "stream",
     "text": [
      "[0.77948113 0.77122642 0.76533019 0.75471698 0.77476415]\n"
     ]
    }
   ],
   "source": [
    "from sklearn.model_selection import cross_val_score\n",
    "\n",
    "# no. of folds cv = 5\n",
    "cv_results = cross_val_score(svclassifier, X, y, cv = 5)\n",
    "print(cv_results)"
   ]
  },
  {
   "cell_type": "code",
   "execution_count": null,
   "metadata": {
    "id": "wScqu8bH-8bt"
   },
   "outputs": [],
   "source": []
  },
  {
   "cell_type": "code",
   "execution_count": null,
   "metadata": {
    "id": "S6kiaypj-mbW"
   },
   "outputs": [],
   "source": []
  }
 ],
 "metadata": {
  "accelerator": "GPU",
  "colab": {
   "name": "SVM_TRAIN_FINAL.ipynb",
   "provenance": []
  },
  "kernelspec": {
   "display_name": "Python 3",
   "language": "python",
   "name": "python3"
  },
  "language_info": {
   "codemirror_mode": {
    "name": "ipython",
    "version": 3
   },
   "file_extension": ".py",
   "mimetype": "text/x-python",
   "name": "python",
   "nbconvert_exporter": "python",
   "pygments_lexer": "ipython3",
   "version": "3.7.4"
  }
 },
 "nbformat": 4,
 "nbformat_minor": 1
}
